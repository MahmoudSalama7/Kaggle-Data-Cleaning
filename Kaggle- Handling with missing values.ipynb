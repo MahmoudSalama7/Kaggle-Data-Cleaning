{
 "cells": [
  {
   "cell_type": "code",
   "execution_count": null,
   "id": "ab12157f",
   "metadata": {},
   "outputs": [],
   "source": [
    "import learntools.core\n",
    "binder.bind(globals())\n",
    "from learntools.data_cleaning.ex1 import *\n",
    "print(\"Setup Complete\")"
   ]
  },
  {
   "cell_type": "code",
   "execution_count": null,
   "id": "e5593cd8",
   "metadata": {},
   "outputs": [],
   "source": [
    "# modules we'll use\n",
    "import pandas as pd\n",
    "import numpy as np\n",
    "\n",
    "# read in all our data\n",
    "sf_permits = pd.read_csv(\"../input/building-permit-applications-data/Building_Permits.csv\")\n",
    "\n",
    "# set seed for reproducibility\n",
    "np.random.seed(0) "
   ]
  },
  {
   "cell_type": "code",
   "execution_count": null,
   "id": "40c1c4c0",
   "metadata": {},
   "outputs": [],
   "source": [
    "sf_permits.head()"
   ]
  },
  {
   "cell_type": "code",
   "execution_count": null,
   "id": "a071823a",
   "metadata": {},
   "outputs": [],
   "source": [
    "cells=np.product(sf_permits.shape)\n",
    "missing_count=sf_permits.isnull().sum()\n",
    "missing_count[0:10]\n",
    "             \n",
    "missing=missing_count.sum()\n",
    "\n",
    "percent_missing = missing/cells*100\n",
    "print(percent_missing)"
   ]
  },
  {
   "cell_type": "code",
   "execution_count": null,
   "id": "13586e58",
   "metadata": {},
   "outputs": [],
   "source": [
    "sf_permits.dropna()"
   ]
  },
  {
   "cell_type": "code",
   "execution_count": null,
   "id": "37292b0a",
   "metadata": {},
   "outputs": [],
   "source": [
    "sf_permits_with_na_dropped = sf_permits.dropna(axis=1)\n",
    "\n",
    "cols_in_original_dataset = sf_permits.shape[1]\n",
    "cols_in_na_dropped = sf_permits_with_na_dropped.shape[1]\n",
    "dropped_columns = cols_in_original_dataset - cols_in_na_dropped\n"
   ]
  },
  {
   "cell_type": "code",
   "execution_count": null,
   "id": "2de7e2d9",
   "metadata": {},
   "outputs": [],
   "source": [
    "sf_permits_with_na_imputed =  sf_permits.fillna(method='bfill', axis=0).fillna(0)\n"
   ]
  },
  {
   "cell_type": "code",
   "execution_count": null,
   "id": "6730a6f5",
   "metadata": {},
   "outputs": [],
   "source": []
  }
 ],
 "metadata": {
  "kernelspec": {
   "display_name": "Python 3 (ipykernel)",
   "language": "python",
   "name": "python3"
  },
  "language_info": {
   "codemirror_mode": {
    "name": "ipython",
    "version": 3
   },
   "file_extension": ".py",
   "mimetype": "text/x-python",
   "name": "python",
   "nbconvert_exporter": "python",
   "pygments_lexer": "ipython3",
   "version": "3.9.12"
  }
 },
 "nbformat": 4,
 "nbformat_minor": 5
}
